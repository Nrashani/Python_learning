{
  "nbformat": 4,
  "nbformat_minor": 0,
  "metadata": {
    "colab": {
      "provenance": [],
      "authorship_tag": "ABX9TyMO1LwL1rGFqUZdxhIyoFCU",
      "include_colab_link": true
    },
    "kernelspec": {
      "name": "python3",
      "display_name": "Python 3"
    },
    "language_info": {
      "name": "python"
    }
  },
  "cells": [
    {
      "cell_type": "markdown",
      "metadata": {
        "id": "view-in-github",
        "colab_type": "text"
      },
      "source": [
        "<a href=\"https://colab.research.google.com/github/Nrashani/Python_learning/blob/Assignment/Python_Exercises.ipynb\" target=\"_parent\"><img src=\"https://colab.research.google.com/assets/colab-badge.svg\" alt=\"Open In Colab\"/></a>"
      ]
    },
    {
      "cell_type": "markdown",
      "source": [
        "Exercise 1:\n",
        "Write an if statement that asks for the user's name via input() function. If the name is \"Bond\"\n",
        "make it print \"Welcome on board 007.\" Otherwise make it print \"Good morning NAME\".\n",
        "(Replace Name with user's name)\n"
      ],
      "metadata": {
        "id": "iVjSJN8Ud4_Q"
      }
    },
    {
      "cell_type": "code",
      "execution_count": 1,
      "metadata": {
        "id": "7zX2Hva_ceSX",
        "colab": {
          "base_uri": "https://localhost:8080/"
        },
        "outputId": "362004b1-e365-4788-f289-c694261b0ddd"
      },
      "outputs": [
        {
          "output_type": "stream",
          "name": "stdout",
          "text": [
            "What is your name? nimasha\n",
            "Good morning nimasha.\n"
          ]
        }
      ],
      "source": [
        "# Ask the user for their name\n",
        "name = input(\"What is your name? \")\n",
        "\n",
        "# Check if the name is \"Bond\"\n",
        "if name == \"Bond\":\n",
        "    print(\"Welcome on board 007.\")\n",
        "else:\n",
        "    print(f\"Good morning {name}.\")"
      ]
    },
    {
      "cell_type": "markdown",
      "source": [
        "Exercise 2:\n",
        "Iterate through the given list and if an element is equal to 100, assign a notification message to the variable my_message with the index of that element - i.e.: \"There is a 100 at index no: 5“\n",
        "\n",
        "lst = [10, 99, 98, 85, 45, 59, 65, 66, 76, 12, 35, 13, 100, 80, 95]\n"
      ],
      "metadata": {
        "id": "eaKnWIi5d-Cv"
      }
    },
    {
      "cell_type": "code",
      "source": [
        "lst = [10, 99, 98, 85, 45, 59, 65, 66, 76, 12, 35, 13, 100, 80, 95]\n",
        "my_message = None\n",
        "for i, num in enumerate(lst):\n",
        "    if num == 100:\n",
        "        my_message = f\"There is a 100 at index no: {i}\"\n",
        "        break\n",
        "print(my_message)"
      ],
      "metadata": {
        "colab": {
          "base_uri": "https://localhost:8080/"
        },
        "id": "wFxIg07Dd4R1",
        "outputId": "52262df8-6df3-4ade-fea5-5abdb394828a"
      },
      "execution_count": 3,
      "outputs": [
        {
          "output_type": "stream",
          "name": "stdout",
          "text": [
            "There is a 100 at index no: 12\n"
          ]
        }
      ]
    },
    {
      "cell_type": "markdown",
      "source": [
        "Exercise 3:\n",
        "Create a list with the squares of each element in the list below if the square is greater than 50.\n",
        "\n",
        "lst=[2, 4, 6, 8, 10, 12, 14]\n"
      ],
      "metadata": {
        "id": "7kx0RuI4eUq1"
      }
    },
    {
      "cell_type": "code",
      "source": [
        "lst=[2, 4, 6, 8, 10, 12, 14]\n",
        "lst_squares = [x**2 for x in lst if x**2 > 50]\n",
        "print(lst_squares)"
      ],
      "metadata": {
        "colab": {
          "base_uri": "https://localhost:8080/"
        },
        "id": "npwLk7OpeVvp",
        "outputId": "83ac87a3-3e4b-4f6f-fe7d-7ea205289ef6"
      },
      "execution_count": 2,
      "outputs": [
        {
          "output_type": "stream",
          "name": "stdout",
          "text": [
            "[64, 100, 144, 196]\n"
          ]
        }
      ]
    },
    {
      "cell_type": "markdown",
      "source": [
        "Exercise 4:\n",
        "Write a script that defines a small dictionary (5 or 6 words will be enough) English-to-your\n",
        "mother tongue. When run, the script should prompt the user for a word in your mother\n",
        "tongue and display the corresponding one in English. If the word is not in the dictionary, the\n",
        "script should print all the words it knows. If the word is not present in the dictionary, the\n",
        "script will print all the words it is able to translate. NB: the script should be case insensitive.\n",
        "\n"
      ],
      "metadata": {
        "id": "xVPi44MCedve"
      }
    },
    {
      "cell_type": "code",
      "source": [
        "lst=['Mother', 'Tree', 'Waterfall', 'Girl', 'Fish']\n",
        "lst1=['Amma', 'Gasa', 'Diyaella', 'kella', 'maluwa']\n",
        "my_dict = dict(zip(lst1, lst))\n",
        "word = input(\"Enter a word in your mother tongue: \")\n",
        "if word in my_dict:\n",
        "    print(f\"The word {word} in English is {my_dict[word]}.\")\n",
        "else:\n",
        "    print(f\"The word {word} is not in the dictionary.\")"
      ],
      "metadata": {
        "colab": {
          "base_uri": "https://localhost:8080/"
        },
        "id": "Qld10Mtmee-s",
        "outputId": "7120bac7-5904-4046-92e3-2fcbaffb42e8"
      },
      "execution_count": 8,
      "outputs": [
        {
          "output_type": "stream",
          "name": "stdout",
          "text": [
            "Enter a word in your mother tongue: kella\n",
            "The word kella in English is Girl.\n"
          ]
        }
      ]
    },
    {
      "cell_type": "markdown",
      "source": [
        "Exercise 5:\n",
        "Temperature in °C can be converted to °F using this formula: °F = (°C * 9/5) + 32. Write a function which converts °C to °F, convert_celsius_to_fahrenheit.\n"
      ],
      "metadata": {
        "id": "zZFy_mrVefWp"
      }
    },
    {
      "cell_type": "code",
      "source": [
        "convert_celsius_to_fahrenheit = lambda celsius: (celsius * 9/5) + 32\n",
        "fahrenheit = convert_celsius_to_fahrenheit(celsius)\n",
        "celsius = float(input(\"Enter the temperature in Celsius: \"))\n",
        "print(f\"{celsius}°C is equal to {fahrenheit}°F.\")"
      ],
      "metadata": {
        "colab": {
          "base_uri": "https://localhost:8080/"
        },
        "id": "sru8c10ieh_j",
        "outputId": "cf70f61f-9ad1-4972-acc7-fc2d674bc3fd"
      },
      "execution_count": 12,
      "outputs": [
        {
          "output_type": "stream",
          "name": "stdout",
          "text": [
            "Enter the temperature in Celsius: 18\n",
            "18.0°C is equal to 77.0°F.\n"
          ]
        }
      ]
    },
    {
      "cell_type": "markdown",
      "source": [
        "Exercise 6:\n",
        "Declare a function named reverse_list. It takes a list as a parameter and it returns the reverse of the list\n"
      ],
      "metadata": {
        "id": "qKhVrxsFeiZO"
      }
    },
    {
      "cell_type": "code",
      "source": [
        "reverse_list = lambda lst: lst[::-1]\n",
        "lst = input(\"Enter a list\")\n",
        "print(reverse_list(lst))\n"
      ],
      "metadata": {
        "colab": {
          "base_uri": "https://localhost:8080/"
        },
        "id": "P1QfWaBbek8K",
        "outputId": "2f085a32-e811-4954-bc98-5b6ba43b5993"
      },
      "execution_count": 14,
      "outputs": [
        {
          "output_type": "stream",
          "name": "stdout",
          "text": [
            "Enter a list1,4,5,6\n",
            "6,5,4,1\n"
          ]
        }
      ]
    }
  ]
}