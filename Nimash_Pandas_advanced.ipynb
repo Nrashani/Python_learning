{
  "cells": [
    {
      "cell_type": "markdown",
      "metadata": {
        "id": "view-in-github",
        "colab_type": "text"
      },
      "source": [
        "<a href=\"https://colab.research.google.com/github/Nrashani/Python_learning/blob/Assignment/Nimash_Pandas_advanced.ipynb\" target=\"_parent\"><img src=\"https://colab.research.google.com/assets/colab-badge.svg\" alt=\"Open In Colab\"/></a>"
      ]
    },
    {
      "cell_type": "markdown",
      "id": "eae06437",
      "metadata": {
        "papermill": {
          "duration": 0.129227,
          "end_time": "2021-09-24T15:37:03.051380",
          "exception": false,
          "start_time": "2021-09-24T15:37:02.922153",
          "status": "completed"
        },
        "tags": [],
        "id": "eae06437"
      },
      "source": [
        "![purple-divider](https://user-images.githubusercontent.com/7065401/52071927-c1cd7100-2562-11e9-908a-dde91ba14e59.png)\n"
      ]
    },
    {
      "cell_type": "markdown",
      "id": "dfeeda76",
      "metadata": {
        "papermill": {
          "duration": 0.126084,
          "end_time": "2021-09-24T15:37:03.340314",
          "exception": false,
          "start_time": "2021-09-24T15:37:03.214230",
          "status": "completed"
        },
        "tags": [],
        "id": "dfeeda76"
      },
      "source": [
        "# Advanced data manipulation and visualisation with Python and Pandas\n"
      ]
    },
    {
      "cell_type": "markdown",
      "id": "70dc2055",
      "metadata": {
        "papermill": {
          "duration": 0.13093,
          "end_time": "2021-09-24T15:37:03.597285",
          "exception": false,
          "start_time": "2021-09-24T15:37:03.466355",
          "status": "completed"
        },
        "tags": [],
        "id": "70dc2055"
      },
      "source": [
        "![purple-divider](https://user-images.githubusercontent.com/7065401/52071927-c1cd7100-2562-11e9-908a-dde91ba14e59.png)\n"
      ]
    },
    {
      "cell_type": "markdown",
      "id": "61308e4a",
      "metadata": {
        "papermill": {
          "duration": 0.124833,
          "end_time": "2021-09-24T15:37:03.862679",
          "exception": false,
          "start_time": "2021-09-24T15:37:03.737846",
          "status": "completed"
        },
        "tags": [],
        "id": "61308e4a"
      },
      "source": [
        "# Introduction\n",
        "\n",
        "pandas is a library written for the Python for data manipulation and analysis. In particular, it offers data structures and operations for manipulating numerical tables and time series.\n",
        "\n",
        "So since it's a module, we need to:\n",
        "- download pandas first from `pip install pandas`\n",
        "- import it on our notebook"
      ]
    },
    {
      "cell_type": "code",
      "execution_count": null,
      "id": "c796645c",
      "metadata": {
        "execution": {
          "iopub.execute_input": "2021-09-24T15:37:04.127739Z",
          "iopub.status.busy": "2021-09-24T15:37:04.122653Z",
          "iopub.status.idle": "2021-09-24T15:37:04.132092Z",
          "shell.execute_reply": "2021-09-24T15:37:04.131280Z",
          "shell.execute_reply.started": "2021-09-24T15:35:14.468161Z"
        },
        "papermill": {
          "duration": 0.144518,
          "end_time": "2021-09-24T15:37:04.132310",
          "exception": false,
          "start_time": "2021-09-24T15:37:03.987792",
          "status": "completed"
        },
        "tags": [],
        "id": "c796645c"
      },
      "outputs": [],
      "source": [
        "# importing pandas\n",
        "import pandas as pd"
      ]
    },
    {
      "cell_type": "markdown",
      "id": "c735d4c9",
      "metadata": {
        "papermill": {
          "duration": 0.124462,
          "end_time": "2021-09-24T15:37:04.381522",
          "exception": false,
          "start_time": "2021-09-24T15:37:04.257060",
          "status": "completed"
        },
        "tags": [],
        "id": "c735d4c9"
      },
      "source": [
        "![green-divider](https://user-images.githubusercontent.com/7065401/52071924-c003ad80-2562-11e9-8297-1c6595f8a7ff.png)"
      ]
    },
    {
      "cell_type": "markdown",
      "id": "13aba9a8",
      "metadata": {
        "papermill": {
          "duration": 0.124453,
          "end_time": "2021-09-24T15:37:04.632237",
          "exception": false,
          "start_time": "2021-09-24T15:37:04.507784",
          "status": "completed"
        },
        "tags": [],
        "id": "13aba9a8"
      },
      "source": [
        "# Load game Dataset\n",
        "\n",
        "Dataset from Kaggle competition, slightly modified for the purposes of this class.\n",
        "\n",
        "### Game description\n",
        "This is a non-existing Pokemon multiplayer game, where 100 players play against each other. Players can catch pokemon each others pokemon using pokeballs. If your pokemon is caught by another player, you lose the match. At the end, the winner of the game is the last player standing.\n",
        "\n",
        "\n",
        "**Here is an explanation of the columns**\n",
        "\n",
        "boosts - Number of boost items used.\n",
        "\n",
        "precisionCatch - Number of pokemon caught with a single ball.\n",
        "\n",
        "heals - Number of healing items used.\n",
        "\n",
        "Id - Player’s Id\n",
        "\n",
        "catchStreaks - Max number of pokemon caught in a short amount of time.\n",
        "\n",
        "catches - Number of pokemon caught.\n",
        "\n",
        "matchDuration - Duration of match in seconds.\n",
        "\n",
        "matchId - ID to identify match.\n",
        "\n",
        "matchType - String identifying the game mode that the data comes from. The standard modes are “solo”, “duo”, “squad”, “solo-fpp”, “duo-fpp”, and “squad-fpp”; other modes are from events or custom matches.\n",
        "\n",
        "rankPoints - Elo-like ranking of player. This ranking is inconsistent and is being deprecated in the API’s next version, so use with caution. Value of -1 takes place of “None”.\n",
        "\n",
        "revives - Number of times this player revived teammates.\n",
        "\n",
        "rideDistance - Total distance traveled in vehicles measured in meters.\n",
        "\n",
        "swimDistance - Total distance traveled by swimming measured in meters.\n",
        "\n",
        "walkDistance - Total distance traveled on foot measured in meters.\n",
        "\n",
        "pokeballsAcquired - Number of pokeballs picked up.\n",
        "\n",
        "winPoints - Win-based external ranking of player. (Think of this as an Elo ranking where only winning matters.) If there is a value other than -1 in rankPoints, then any 0 in winPoints should be treated as a “None”.\n",
        "\n",
        "groupId - ID to identify a group within a match. If the same group of players plays in different matches, they will have a different groupId each time.\n",
        "\n",
        "numGroups - Number of groups we have data for in the match.\n",
        "\n",
        "maxPlace - Worst placement we have data for in the match. This may not match with numGroups, as sometimes the data skips over placements.\n",
        "\n",
        "winPlacePerc - The target of prediction. This is a percentile winning placement, where 1 corresponds to 1st place, and 0 corresponds to last place in the match. It is calculated off of maxPlace, not numGroups, so it is possible to have missing chunks in a match.\n"
      ]
    },
    {
      "cell_type": "code",
      "source": [
        "# Load the dataset in a pandas Dataframe\n",
        "df = pd.read_csv('pokemon.csv')\n",
        "df.head()"
      ],
      "metadata": {
        "id": "9-RC802lFPxK"
      },
      "id": "9-RC802lFPxK",
      "execution_count": null,
      "outputs": []
    },
    {
      "cell_type": "markdown",
      "id": "4bc5389e",
      "metadata": {
        "papermill": {
          "duration": 0.126808,
          "end_time": "2021-09-24T15:37:05.809726",
          "exception": false,
          "start_time": "2021-09-24T15:37:05.682918",
          "status": "completed"
        },
        "tags": [],
        "id": "4bc5389e"
      },
      "source": [
        "![green-divider](https://user-images.githubusercontent.com/7065401/52071924-c003ad80-2562-11e9-8297-1c6595f8a7ff.png)"
      ]
    },
    {
      "cell_type": "markdown",
      "id": "0c9e9700",
      "metadata": {
        "papermill": {
          "duration": 0.152305,
          "end_time": "2021-09-24T15:37:24.264746",
          "exception": false,
          "start_time": "2021-09-24T15:37:24.112441",
          "status": "completed"
        },
        "tags": [],
        "id": "0c9e9700"
      },
      "source": [
        "## Dealing with `nan` values\n",
        "\n",
        "In Pandas there are two ways in which you can deal `nan` values :\n",
        "- drop the rows / columns that contain `nan` value\n",
        "- replace that `nan` value with some other value"
      ]
    },
    {
      "cell_type": "code",
      "source": [
        "# Check for nan values\n",
        "print(df.isnull().sum())"
      ],
      "metadata": {
        "id": "mLlpTVGeFZNi"
      },
      "id": "mLlpTVGeFZNi",
      "execution_count": null,
      "outputs": []
    },
    {
      "cell_type": "code",
      "execution_count": null,
      "id": "b58943e8",
      "metadata": {
        "execution": {
          "iopub.execute_input": "2021-09-24T15:37:25.210528Z",
          "iopub.status.busy": "2021-09-24T15:37:25.209817Z",
          "iopub.status.idle": "2021-09-24T15:37:25.222231Z",
          "shell.execute_reply": "2021-09-24T15:37:25.222776Z",
          "shell.execute_reply.started": "2021-09-24T15:35:15.755383Z"
        },
        "papermill": {
          "duration": 0.16847,
          "end_time": "2021-09-24T15:37:25.222948",
          "exception": false,
          "start_time": "2021-09-24T15:37:25.054478",
          "status": "completed"
        },
        "tags": [],
        "id": "b58943e8"
      },
      "outputs": [],
      "source": [
        "# drop columns if more than 50% missing values\n",
        "df = df.dropna(thresh=df.shape[0]*0.5, axis=1)\n",
        "print(df.isnull().sum())"
      ]
    },
    {
      "cell_type": "markdown",
      "source": [
        "**QUESTION**\n",
        "\n",
        "Has anything changed?\n",
        "\n",
        "Let's try to fill some columns with values"
      ],
      "metadata": {
        "id": "_v3DVvxoGkGF"
      },
      "id": "_v3DVvxoGkGF"
    },
    {
      "cell_type": "code",
      "source": [
        "# Fill walkDistance with the mean of the column\n",
        "df['walkDistance'].fillna(df['walkDistance'].mean(), inplace=True)\n",
        "print(df.isnull().sum())"
      ],
      "metadata": {
        "id": "OyVDXpJCGxfZ"
      },
      "id": "OyVDXpJCGxfZ",
      "execution_count": null,
      "outputs": []
    },
    {
      "cell_type": "code",
      "execution_count": null,
      "id": "b2cfd779",
      "metadata": {
        "execution": {
          "iopub.execute_input": "2021-09-24T15:37:24.575906Z",
          "iopub.status.busy": "2021-09-24T15:37:24.575226Z",
          "iopub.status.idle": "2021-09-24T15:37:24.598783Z",
          "shell.execute_reply": "2021-09-24T15:37:24.599372Z",
          "shell.execute_reply.started": "2021-09-24T15:35:15.728787Z"
        },
        "papermill": {
          "duration": 0.18089,
          "end_time": "2021-09-24T15:37:24.599550",
          "exception": false,
          "start_time": "2021-09-24T15:37:24.418660",
          "status": "completed"
        },
        "tags": [],
        "id": "b2cfd779"
      },
      "outputs": [],
      "source": [
        "# Alternatively, you can drop rows with nan values, by default axis=0\n",
        "df = df.dropna()\n",
        "print(df.isnull().sum())"
      ]
    },
    {
      "cell_type": "markdown",
      "id": "835a7f85",
      "metadata": {
        "papermill": {
          "duration": 0.158955,
          "end_time": "2021-09-24T15:37:30.184144",
          "exception": false,
          "start_time": "2021-09-24T15:37:30.025189",
          "status": "completed"
        },
        "tags": [],
        "id": "835a7f85"
      },
      "source": [
        "![green-divider](https://user-images.githubusercontent.com/7065401/52071924-c003ad80-2562-11e9-8297-1c6595f8a7ff.png)"
      ]
    },
    {
      "cell_type": "markdown",
      "id": "f045a960",
      "metadata": {
        "papermill": {
          "duration": 0.162354,
          "end_time": "2021-09-24T15:37:34.592231",
          "exception": false,
          "start_time": "2021-09-24T15:37:34.429877",
          "status": "completed"
        },
        "tags": [],
        "id": "f045a960"
      },
      "source": [
        "## More functions"
      ]
    },
    {
      "cell_type": "markdown",
      "id": "d186a5f4",
      "metadata": {
        "papermill": {
          "duration": 0.162161,
          "end_time": "2021-09-24T15:37:34.918355",
          "exception": false,
          "start_time": "2021-09-24T15:37:34.756194",
          "status": "completed"
        },
        "tags": [],
        "id": "d186a5f4"
      },
      "source": [
        "### Sorting\n",
        "\n",
        "You can sort like in the ORDER BY in sql by doing\n",
        "\n",
        "```\n",
        "df.sort_values(YOUR_COLUMN, ascending=True/False)\n",
        "```\n",
        "\n",
        "Try it out!\n"
      ]
    },
    {
      "cell_type": "code",
      "execution_count": null,
      "id": "f1ea653f",
      "metadata": {
        "execution": {
          "iopub.execute_input": "2021-09-24T15:37:35.603536Z",
          "iopub.status.busy": "2021-09-24T15:37:35.602798Z",
          "iopub.status.idle": "2021-09-24T15:37:35.637377Z",
          "shell.execute_reply": "2021-09-24T15:37:35.637982Z",
          "shell.execute_reply.started": "2021-09-24T15:35:16.307202Z"
        },
        "papermill": {
          "duration": 0.201009,
          "end_time": "2021-09-24T15:37:35.638160",
          "exception": false,
          "start_time": "2021-09-24T15:37:35.437151",
          "status": "completed"
        },
        "tags": [],
        "id": "f1ea653f"
      },
      "outputs": [],
      "source": [
        "# sorting dataframe according to the values of column `winPoints`"
      ]
    },
    {
      "cell_type": "markdown",
      "id": "8b2c2535",
      "metadata": {
        "papermill": {
          "duration": 0.163477,
          "end_time": "2021-09-24T15:37:35.964222",
          "exception": false,
          "start_time": "2021-09-24T15:37:35.800745",
          "status": "completed"
        },
        "tags": [],
        "id": "8b2c2535"
      },
      "source": [
        "![green-divider](https://user-images.githubusercontent.com/7065401/52071924-c003ad80-2562-11e9-8297-1c6595f8a7ff.png)"
      ]
    },
    {
      "cell_type": "markdown",
      "id": "a62108db",
      "metadata": {
        "papermill": {
          "duration": 0.163329,
          "end_time": "2021-09-24T15:37:36.290640",
          "exception": false,
          "start_time": "2021-09-24T15:37:36.127311",
          "status": "completed"
        },
        "tags": [],
        "id": "a62108db"
      },
      "source": [
        "### Grouping the data according to a column\n",
        "\n",
        "You can group by like in SQL by dowing\n",
        "\n",
        "\n",
        "\n",
        "```\n",
        "df.groupBy(YOUR_COLUMNS).SOME_OPERATION()\n",
        "```\n",
        "\n"
      ]
    },
    {
      "cell_type": "code",
      "execution_count": null,
      "id": "059f1434",
      "metadata": {
        "execution": {
          "iopub.execute_input": "2021-09-24T15:37:37.309376Z",
          "iopub.status.busy": "2021-09-24T15:37:37.308679Z",
          "iopub.status.idle": "2021-09-24T15:37:37.320130Z",
          "shell.execute_reply": "2021-09-24T15:37:37.320664Z",
          "shell.execute_reply.started": "2021-09-24T15:35:16.364480Z"
        },
        "papermill": {
          "duration": 0.179843,
          "end_time": "2021-09-24T15:37:37.320834",
          "exception": false,
          "start_time": "2021-09-24T15:37:37.140991",
          "status": "completed"
        },
        "tags": [],
        "id": "059f1434"
      },
      "outputs": [],
      "source": [
        "# grouping the data by matchId and count how many rows"
      ]
    },
    {
      "cell_type": "markdown",
      "id": "c2563591",
      "metadata": {
        "papermill": {
          "duration": 0.165972,
          "end_time": "2021-09-24T15:37:38.033782",
          "exception": false,
          "start_time": "2021-09-24T15:37:37.867810",
          "status": "completed"
        },
        "tags": [],
        "id": "c2563591"
      },
      "source": [
        "![green-divider](https://user-images.githubusercontent.com/7065401/52071924-c003ad80-2562-11e9-8297-1c6595f8a7ff.png)"
      ]
    },
    {
      "cell_type": "markdown",
      "id": "ee2c12bb",
      "metadata": {
        "papermill": {
          "duration": 0.181286,
          "end_time": "2021-09-24T15:37:56.280636",
          "exception": false,
          "start_time": "2021-09-24T15:37:56.099350",
          "status": "completed"
        },
        "tags": [],
        "id": "ee2c12bb"
      },
      "source": [
        "### Plotting Graphs"
      ]
    },
    {
      "cell_type": "code",
      "execution_count": null,
      "id": "f2c409fe",
      "metadata": {
        "execution": {
          "iopub.execute_input": "2021-09-24T15:37:58.372034Z",
          "iopub.status.busy": "2021-09-24T15:37:58.370342Z",
          "iopub.status.idle": "2021-09-24T15:37:58.622999Z",
          "shell.execute_reply": "2021-09-24T15:37:58.623576Z",
          "shell.execute_reply.started": "2021-09-24T15:35:17.372668Z"
        },
        "papermill": {
          "duration": 0.438401,
          "end_time": "2021-09-24T15:37:58.623760",
          "exception": false,
          "start_time": "2021-09-24T15:37:58.185359",
          "status": "completed"
        },
        "tags": [],
        "id": "f2c409fe"
      },
      "outputs": [],
      "source": [
        "# plotting scatter graph\n",
        "df.plot(y='precisionCatch', x='winPoints', kind='scatter')"
      ]
    },
    {
      "cell_type": "code",
      "source": [
        "# You can even use Google Colab to plot for you! Try it out.\n",
        "df[[\"walkDistance\", \"winPoints\"]]"
      ],
      "metadata": {
        "id": "9JTfCxx_Inbb"
      },
      "id": "9JTfCxx_Inbb",
      "execution_count": null,
      "outputs": []
    },
    {
      "cell_type": "markdown",
      "source": [
        "# Visualization with Sweetviz\n",
        "\n",
        "Sweetviz is a reporting tool that speeds up your EDA."
      ],
      "metadata": {
        "id": "KgvosjmTaF44"
      },
      "id": "KgvosjmTaF44"
    },
    {
      "cell_type": "code",
      "source": [
        "!pip install sweetviz"
      ],
      "metadata": {
        "id": "NIiKqDigZ_sd"
      },
      "id": "NIiKqDigZ_sd",
      "execution_count": null,
      "outputs": []
    },
    {
      "cell_type": "code",
      "source": [
        "import sweetviz as sv\n",
        "\n",
        "my_report = sv.analyze(df)\n",
        "my_report.show_html() # Default arguments will generate to \"SWEETVIZ_REPORT.html\"\n",
        "\n",
        "# Note: If the report does not appear, you have to download the html file and open it in your browser."
      ],
      "metadata": {
        "id": "2cSH-o7HZ1se"
      },
      "id": "2cSH-o7HZ1se",
      "execution_count": null,
      "outputs": []
    },
    {
      "cell_type": "markdown",
      "id": "0d56e5b1",
      "metadata": {
        "papermill": {
          "duration": 0.188642,
          "end_time": "2021-09-24T15:38:02.218128",
          "exception": false,
          "start_time": "2021-09-24T15:38:02.029486",
          "status": "completed"
        },
        "tags": [],
        "id": "0d56e5b1"
      },
      "source": [
        "# The End !!"
      ]
    },
    {
      "cell_type": "markdown",
      "id": "f8fdff9d",
      "metadata": {
        "papermill": {
          "duration": 0.190394,
          "end_time": "2021-09-24T15:38:02.597746",
          "exception": false,
          "start_time": "2021-09-24T15:38:02.407352",
          "status": "completed"
        },
        "tags": [],
        "id": "f8fdff9d"
      },
      "source": [
        "![purple-divider](https://user-images.githubusercontent.com/7065401/52071927-c1cd7100-2562-11e9-908a-dde91ba14e59.png)\n"
      ]
    }
  ],
  "metadata": {
    "kernelspec": {
      "display_name": "Python 3 (ipykernel)",
      "language": "python",
      "name": "python3"
    },
    "language_info": {
      "codemirror_mode": {
        "name": "ipython",
        "version": 3
      },
      "file_extension": ".py",
      "mimetype": "text/x-python",
      "name": "python",
      "nbconvert_exporter": "python",
      "pygments_lexer": "ipython3",
      "version": "3.11.5"
    },
    "papermill": {
      "default_parameters": {},
      "duration": 68.933611,
      "end_time": "2021-09-24T15:38:03.406893",
      "environment_variables": {},
      "exception": null,
      "input_path": "__notebook__.ipynb",
      "output_path": "__notebook__.ipynb",
      "parameters": {},
      "start_time": "2021-09-24T15:36:54.473282",
      "version": "2.3.3"
    },
    "colab": {
      "provenance": [],
      "include_colab_link": true
    }
  },
  "nbformat": 4,
  "nbformat_minor": 5
}